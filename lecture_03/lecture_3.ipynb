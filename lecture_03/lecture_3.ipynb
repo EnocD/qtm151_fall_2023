{
 "cells": [
  {
   "attachments": {},
   "cell_type": "markdown",
   "metadata": {},
   "source": [
    "# <span style=\"color:darkblue\"> Lecture 3: Mathematical Operations and Random Numbers </span>"
   ]
  },
  {
   "attachments": {},
   "cell_type": "markdown",
   "metadata": {},
   "source": [
    "<font size=\"5\"> \n",
    "\n",
    "In the previous class we:\n",
    "- Introduced lists and variable types\n",
    "- Talked about how to extract elements from a list"
   ]
  },
  {
   "attachments": {},
   "cell_type": "markdown",
   "metadata": {},
   "source": [
    "<font size=\"5\"> \n",
    "\n",
    "In this class we will:\n",
    "\n",
    "- Introduce a library for general mathematical operations\n",
    "- Generate random numbers\n",
    "- (Optional) Matrix operations"
   ]
  },
  {
   "attachments": {},
   "cell_type": "markdown",
   "metadata": {},
   "source": [
    "## <span style=\"color:darkblue\"> I. Import Libraries </span>"
   ]
  },
  {
   "cell_type": "code",
   "execution_count": 2,
   "metadata": {},
   "outputs": [],
   "source": [
    "# the \"numPy\" library is used for mathematical operations\n",
    "# the \"matplotlib\" library is for generating graphs\n",
    "\n",
    "import numpy as np\n",
    "import matplotlib.pyplot as plt\n"
   ]
  },
  {
   "attachments": {},
   "cell_type": "markdown",
   "metadata": {},
   "source": [
    "##  <span style=\"color:darkblue\"> II. Numbers and Functions </span>"
   ]
  },
  {
   "attachments": {},
   "cell_type": "markdown",
   "metadata": {},
   "source": [
    "<font size = \"5\" >\n",
    "Examples of numPy numbers"
   ]
  },
  {
   "cell_type": "code",
   "execution_count": 3,
   "metadata": {},
   "outputs": [
    {
     "data": {
      "text/plain": [
       "3.141592653589793"
      ]
     },
     "execution_count": 3,
     "metadata": {},
     "output_type": "execute_result"
    }
   ],
   "source": [
    "# Computes \"pi\" (3.14...)\n",
    "\n",
    "np.pi"
   ]
  },
  {
   "cell_type": "code",
   "execution_count": 2,
   "metadata": {},
   "outputs": [
    {
     "data": {
      "text/plain": [
       "0"
      ]
     },
     "execution_count": 2,
     "metadata": {},
     "output_type": "execute_result"
    }
   ],
   "source": []
  },
  {
   "attachments": {},
   "cell_type": "markdown",
   "metadata": {},
   "source": [
    "<font size = \"5\" >\n",
    "\n",
    "Examples of numPy functions\n",
    "\n",
    "$ ln(x), e^x, sin(x), cos(x), \\sqrt{x}$"
   ]
  },
  {
   "cell_type": "code",
   "execution_count": 4,
   "metadata": {},
   "outputs": [
    {
     "name": "stdout",
     "output_type": "stream",
     "text": [
      "0.0\n",
      "2.718281828459045\n",
      "0.8414709848078965\n",
      "0.5403023058681398\n",
      "1.0\n"
     ]
    }
   ],
   "source": [
    "# log(x) computes the logarithm with base \"e\" (Euler constant)\n",
    "# exp(x) compute the Euler constant raised to the power of \"x\"\n",
    "# sing(x) computes the sine of x\n",
    "# cos(x) computes the cosine of x\n",
    "# In this example, we're substituting x = 1\n",
    "\n",
    "print(np.log(1))\n",
    "print(np.exp(1))\n",
    "print(np.sin(1))\n",
    "print(np.cos(1))\n",
    "print(np.sqrt(1))"
   ]
  },
  {
   "attachments": {},
   "cell_type": "markdown",
   "metadata": {},
   "source": [
    "<font size = \"5\">\n",
    "\n",
    "Try it yourself!\n",
    "\n",
    "- Create a new variable, $x = 5$\n",
    "- Compute $\\pi x^2$\n",
    "- Compute $ \\frac{1}{\\sqrt{2\\pi}}e^{-x^2} $"
   ]
  },
  {
   "cell_type": "code",
<<<<<<< HEAD
<<<<<<< HEAD
   "execution_count": 27,
=======
   "execution_count": 1,
>>>>>>> upstream/main
=======
   "execution_count": 10,
   "metadata": {},
   "outputs": [
    {
     "name": "stdout",
     "output_type": "stream",
     "text": [
      "21.991148575128552\n",
      "0.0003637882707952594\n"
     ]
    }
   ],
   "source": [
    "# Include your answer here:\n",
    "\n",
    "x = 5\n",
    "print(np.pi*(x^2))\n",
    "print((1/np.sqrt(2*np.pi))*np.exp(-x^2))"
   ]
  },
  {
   "cell_type": "code",
   "execution_count": 16,
>>>>>>> upstream/main
   "metadata": {},
   "outputs": [
    {
     "name": "stdout",
     "output_type": "stream",
     "text": [
      "28.274333882308138\n",
      "4.923338866623399e-05\n",
      "0.14676266317373993\n"
     ]
    }
   ],
   "source": [
<<<<<<< HEAD
<<<<<<< HEAD
    "# Include your answer here:\n",
    "\n",
    "x = 3\n",
    "print(np.pi*(x**2))\n",
    "print((1/np.sqrt(2*np.pi))*np.exp(-x**2))\n",
    "print((1/np.sqrt(2*np.pi))*np.exp(-x^2))\n"
=======
    "# Include your answer here:\n"
>>>>>>> upstream/main
=======
    "q = 1/np.sqrt(2*np.pi)\n",
    "ex = np.exp(-x^2)"
   ]
  },
  {
   "cell_type": "code",
   "execution_count": 19,
   "metadata": {},
   "outputs": [
    {
     "data": {
      "text/plain": [
       "0.0003637882707952594"
      ]
     },
     "execution_count": 19,
     "metadata": {},
     "output_type": "execute_result"
    }
   ],
   "source": [
    "q*ex"
>>>>>>> upstream/main
   ]
  },
  {
   "cell_type": "code",
   "execution_count": 11,
   "metadata": {},
   "outputs": [
    {
     "data": {
      "text/plain": [
       "25"
      ]
     },
     "execution_count": 11,
     "metadata": {},
     "output_type": "execute_result"
    }
   ],
   "source": []
  },
  {
   "attachments": {},
   "cell_type": "markdown",
   "metadata": {},
   "source": [
    "##  <span style=\"color:darkblue\"> III. Vector Arrays </span>"
   ]
  },
  {
   "attachments": {},
   "cell_type": "markdown",
   "metadata": {},
   "source": [
    "<font size = \"5\">\n",
    "Create an array from a list\n",
    "\n",
    "$ \\text{ }$\n",
    "$ a = \\begin{pmatrix} 1 \\\\ 2 \\\\ 3 \\end{pmatrix}\n",
    "\\qquad b = \\begin{pmatrix} 0 \\\\ 1 \\\\ 0\\end{pmatrix}\n",
    "\\qquad c = \\begin{pmatrix} 10 \\\\ 100 \\\\ 1000 \\\\ 2000 \\\\ 5000 \\end{pmatrix} \n",
    "\\qquad d = \\begin{pmatrix} 4 \\\\ 2 \\end{pmatrix} $"
   ]
  },
  {
   "cell_type": "code",
<<<<<<< HEAD
   "execution_count": 12,
=======
   "execution_count": 33,
>>>>>>> upstream/main
   "metadata": {},
   "outputs": [],
   "source": [
    "# You create an array by converting a list [1,2,3] to a numeric object\n",
    "# \"array\" is a subfunction of the library numPy.\n",
    "\n",
    "vec_a  = np.array([1,2,3])\n",
    "vec_b  = np.array([0,1,0])\n",
    "vec_c  = np.array([10,100,1000,2000,5000])\n"
   ]
  },
  {
   "cell_type": "code",
   "execution_count": 13,
   "metadata": {},
   "outputs": [
    {
     "data": {
      "text/plain": [
       "numpy.ndarray"
      ]
     },
     "execution_count": 13,
     "metadata": {},
     "output_type": "execute_result"
    }
   ],
   "source": [
    "type(vec_a)"
   ]
  },
  {
   "attachments": {},
   "cell_type": "markdown",
   "metadata": {},
   "source": [
    "<font size = \"5\">\n",
    "\n",
    "Accessing an element of an array"
   ]
  },
  {
   "cell_type": "code",
   "execution_count": 35,
   "metadata": {},
   "outputs": [
    {
     "name": "stdout",
     "output_type": "stream",
     "text": [
      "1\n",
      "3\n"
     ]
    }
   ],
   "source": [
    "# Arrays, like lists, start their numbering at zero.\n",
    "# You also access them with square brackets\n",
    "\n",
    "print(vec_a[0])\n",
    "print(vec_a[2])\n"
   ]
  },
  {
   "attachments": {},
   "cell_type": "markdown",
   "metadata": {},
   "source": [
    "<font size = \"5\">\n",
    "Operations with a single array and a scalar"
   ]
  },
  {
   "attachments": {},
   "cell_type": "markdown",
   "metadata": {},
   "source": [
    "<font size = \"5\">\n",
    "\n",
    "$ a + 2 = \\begin{pmatrix} a_1 + 2 \\\\ a_2 + 2 \\\\ a_3 + 2 \\end{pmatrix}$"
   ]
  },
  {
   "cell_type": "code",
   "execution_count": 36,
   "metadata": {},
   "outputs": [
    {
     "name": "stdout",
     "output_type": "stream",
     "text": [
      "[2 4 6]\n",
      "[0.5 1.  1.5]\n",
      "[3 4 5]\n",
      "[1 4 9]\n"
     ]
    }
   ],
   "source": [
    "# A scalar refers to either an int or float\n",
    "# We can do many common operations with \n",
    "\n",
    "print(vec_a * 2)\n",
    "print(vec_a / 2)\n",
    "print(vec_a + 2)\n",
    "print(vec_a ** 2)"
   ]
  },
  {
   "attachments": {},
   "cell_type": "markdown",
   "metadata": {},
   "source": [
    "<font size = \"5\">\n",
    "Element-by-element addition between two arrays of the same size\n",
    "\n",
    "$\\text{ }$\n",
    "\n",
    "$ a + b = \\begin{pmatrix} a_1 \\\\ a_2 \\\\ a_3 \\end{pmatrix} +\n",
    "          \\begin{pmatrix} b_1 \\\\ b_2 \\\\ b_3 \\end{pmatrix} =\n",
    "          \\begin{pmatrix} a_1 + b_1 \\\\ a_2 + b_2 \\\\ a_3 + b_3 \\end{pmatrix}$"
   ]
  },
  {
   "cell_type": "code",
   "execution_count": 37,
   "metadata": {},
   "outputs": [
    {
     "name": "stdout",
     "output_type": "stream",
     "text": [
      "[1 2 3]\n",
      "[0 1 0]\n"
     ]
    }
   ],
   "source": [
    "print(vec_a)\n",
    "print(vec_b)"
   ]
  },
  {
   "cell_type": "code",
   "execution_count": 38,
   "metadata": {},
   "outputs": [
    {
     "name": "stdout",
     "output_type": "stream",
     "text": [
      "[1 3 3]\n"
     ]
    }
   ],
   "source": [
    "# When you add two arrays of the same size,\n",
    "# Python adds the individual elements in each position\n",
    "\n",
    "print(vec_a + vec_b)\n"
   ]
  },
  {
   "attachments": {},
   "cell_type": "markdown",
   "metadata": {},
   "source": [
    "<font size =\"5\">\n",
    "\n",
    "The default multiplication option is element-by element:\n",
    "\n",
    "$ a * b = \\begin{pmatrix} a_1 * b_1 \\\\ a_2 * b_2 \\\\ a_3 * b_3 \\end{pmatrix}$"
   ]
  },
  {
   "cell_type": "code",
   "execution_count": 39,
   "metadata": {},
   "outputs": [
    {
     "name": "stdout",
     "output_type": "stream",
     "text": [
      "[0 2 0]\n",
      "[1 1 3]\n",
      "[inf  2. inf]\n"
     ]
    },
    {
     "name": "stderr",
     "output_type": "stream",
     "text": [
      "C:\\Users\\jjestra\\AppData\\Local\\Temp\\ipykernel_7268\\3839639845.py:6: RuntimeWarning: divide by zero encountered in divide\n",
      "  print(vec_a / vec_b)\n"
     ]
    }
   ],
   "source": [
    "# We can do other similar element-by-element operations\n",
    "# such as multiplication, subtraction, and division.\n",
    "\n",
    "print(vec_a * vec_b)\n",
    "print(vec_a - vec_b)\n",
    "print(vec_a / vec_b)\n"
   ]
  },
  {
   "attachments": {},
   "cell_type": "markdown",
   "metadata": {},
   "source": [
    "<font size = \"5\">\n",
    "Summary statistics of an array"
   ]
  },
  {
   "cell_type": "code",
   "execution_count": 40,
   "metadata": {},
   "outputs": [
    {
     "name": "stdout",
     "output_type": "stream",
     "text": [
      "2.0\n",
      "0.816496580927726\n",
      "1\n",
      "2.0\n",
      "3\n"
     ]
    }
   ],
   "source": [
    "# The function np.mean() computes the mean of an array\n",
    "# We can do similar operations for the standard deviation (std),\n",
    "# the minimum (min), the median (median), and the maximum (max).\n",
    "\n",
    "print(np.mean(vec_a))\n",
    "print(np.std(vec_a))\n",
    "print(np.min(vec_a))\n",
    "print(np.median(vec_a))\n",
    "print(np.max(vec_a))"
   ]
  },
  {
   "attachments": {},
   "cell_type": "markdown",
   "metadata": {},
   "source": [
    "<font size = \"5\">\n",
    "\n",
    "Try it yourself! Compute the mean of\n",
    "\n",
    "\n",
    "$ e = \\begin{pmatrix} 10 \\\\ 8 \\\\ 15 \\\\ 0 \\\\ 24 \\end{pmatrix} $"
   ]
  },
  {
   "cell_type": "code",
   "execution_count": 11,
   "metadata": {},
   "outputs": [],
   "source": [
    "# Create your own array and compute any of the above summary statistics\n",
    "\n",
    "\n",
    "\n",
    "\n",
    "\n"
   ]
  },
  {
   "attachments": {},
   "cell_type": "markdown",
   "metadata": {},
   "source": [
    "<font size = \"5\">\n",
    "<span style=\"color:red\"> Common Pitfall </span>: Make sure that the arrays have the same size"
   ]
  },
  {
   "cell_type": "code",
   "execution_count": 41,
   "metadata": {},
   "outputs": [
    {
     "name": "stdout",
     "output_type": "stream",
     "text": [
      "[1 2 3]\n",
      "[  10  100 1000 2000 5000]\n"
     ]
    }
   ],
   "source": [
    "print(vec_a)\n",
    "print(vec_c)"
   ]
  },
  {
   "cell_type": "code",
   "execution_count": 42,
   "metadata": {},
   "outputs": [
    {
     "data": {
      "text/plain": [
       "(3,)"
      ]
     },
     "execution_count": 42,
     "metadata": {},
     "output_type": "execute_result"
    }
   ],
   "source": [
    "vec_a.shape"
   ]
  },
  {
   "cell_type": "code",
   "execution_count": 14,
   "metadata": {},
   "outputs": [
    {
     "ename": "ValueError",
     "evalue": "operands could not be broadcast together with shapes (3,) (5,) ",
     "output_type": "error",
     "traceback": [
      "\u001b[0;31m---------------------------------------------------------------------------\u001b[0m",
      "\u001b[0;31mValueError\u001b[0m                                Traceback (most recent call last)",
      "Cell \u001b[0;32mIn[14], line 3\u001b[0m\n\u001b[1;32m      1\u001b[0m \u001b[39m# Here I try to combine two arrays of different size.\u001b[39;00m\n\u001b[0;32m----> 3\u001b[0m vec_a \u001b[39m+\u001b[39;49m vec_c\n",
      "\u001b[0;31mValueError\u001b[0m: operands could not be broadcast together with shapes (3,) (5,) "
     ]
    }
   ],
   "source": [
    "# Here I try to combine two arrays of different size.\n",
    "\n",
    "vec_a + vec_c"
   ]
  },
  {
   "attachments": {},
   "cell_type": "markdown",
   "metadata": {},
   "source": [
    "##  <span style=\"color:darkblue\"> IV. Random Numbers </span>\n",
    "\n",
    "<font size = \"5\">\n",
    "\n",
    "Why randomness?\n",
    "\n",
    "- Simulate different scenarios: high risk or low risk\n",
    "- Study properties of a complex system and/or estimator\n",
    "- In medicine, randomly assign subjects to treatment or control"
   ]
  },
  {
   "attachments": {},
   "cell_type": "markdown",
   "metadata": {},
   "source": [
    "<font size = \"5\">\n",
    "\n",
    "Create a vector of random variables"
   ]
  },
  {
   "cell_type": "code",
<<<<<<< HEAD
   "execution_count": 22,
=======
   "execution_count": 54,
>>>>>>> upstream/main
   "metadata": {},
   "outputs": [
    {
     "name": "stdout",
     "output_type": "stream",
     "text": [
<<<<<<< HEAD
      "[-0.24104865 -1.25069564  0.99313253 -0.62296024  0.23508934  1.00712051\n",
      " -0.99164268  0.91335535  0.14004916 -0.61685957]\n"
=======
      "[-0.52003027  1.09799504  1.64555183 -1.06587779 -2.65768188  1.29829786\n",
      "  1.19253713 -0.15110899 -1.16338391  1.07802875]\n"
>>>>>>> upstream/main
     ]
    }
   ],
   "source": [
    "# This code creates a vector of random variables \n",
    "# generated from a normal distribution with\n",
    "# mean \"loc\" (location) and standard deviation \"scale\"\n",
    "# the number of distinct variabels is \"size\"\n",
    "\n",
    "randomvar_a = np.random.normal(loc=0, scale=1, size=10)\n",
    "print(randomvar_a)"
   ]
  },
  {
   "cell_type": "code",
   "execution_count": 25,
   "metadata": {},
   "outputs": [
    {
     "data": {
      "text/plain": [
       "array([0.35844985])"
      ]
     },
     "execution_count": 25,
     "metadata": {},
     "output_type": "execute_result"
    }
   ],
   "source": [
    "np.random.seed(42)\n",
    "np.random.normal(loc=0, scale=1, size=1) + np.random.normal(loc=0,scale=1,size=1)"
   ]
  },
  {
   "attachments": {},
   "cell_type": "markdown",
   "metadata": {},
   "source": [
    "<font size = \"5\">\n",
    "\n",
    "Random numbers differ every time!\n",
    "\n",
    "- Avoid this problem by drawing from a \"pregenerated\" set.\n",
    "- This is called a seed"
   ]
  },
  {
   "cell_type": "code",
   "execution_count": 69,
   "metadata": {},
   "outputs": [
    {
     "name": "stdout",
     "output_type": "stream",
     "text": [
      "[ 1.11417929  1.44487377  0.26473752 -0.41701187 -1.71332341 -0.20751871\n",
      " -0.2088598  -1.03876599 -0.15437717 -0.67879554]\n"
     ]
    }
   ],
   "source": [
    "# Your computer will typically generate different numbers every time you run a command\n",
    "# However, sometimes you want to be able to replicate the results\n",
    "# You can choose any other number instead of \"12345\". This will produce another set\n",
    "# of random numbers, but they will give the same answers\n",
    "\n",
    "np.random.seed(10393)\n",
    "\n",
    "random_var_b = np.random.normal(loc=0, scale=1, size=10)\n",
    "print(random_var_b)"
   ]
  },
  {
   "attachments": {},
   "cell_type": "markdown",
   "metadata": {},
   "source": [
    "<font size = \"5\">\n",
    "\n",
    "Compute a histogram with the results"
   ]
  },
  {
   "cell_type": "code",
   "execution_count": 24,
   "metadata": {},
   "outputs": [
    {
     "data": {
      "text/plain": [
       "Text(0, 0.5, 'Frequency')"
      ]
     },
     "execution_count": 24,
     "metadata": {},
     "output_type": "execute_result"
    },
    {
     "data": {
      "image/png": "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",
      "text/plain": [
       "<Figure size 640x480 with 1 Axes>"
      ]
     },
     "metadata": {},
     "output_type": "display_data"
    }
   ],
   "source": [
    "# Compute a histogram\n",
    "# You can edit the number of bins with plt.hist(x = randomvar_a)\n",
    "\n",
    "randomvar_x = np.random.normal(loc=0, scale=1, size=10)\n",
    "\n",
    "plt.hist(x = randomvar_x)\n",
    "plt.xlabel(\"Variable a\")\n",
    "plt.ylabel(\"Frequency\")"
   ]
  },
  {
   "attachments": {},
   "cell_type": "markdown",
   "metadata": {},
   "source": [
    "<font size = \"5\">\n",
    "\n",
    "Try this again with $size = 100, 1000, 10000$"
   ]
  },
  {
   "cell_type": "code",
   "execution_count": 80,
   "metadata": {},
   "outputs": [
    {
     "data": {
      "text/plain": [
       "Text(0, 0.5, 'Frequency')"
      ]
     },
     "execution_count": 80,
     "metadata": {},
     "output_type": "execute_result"
    },
    {
     "data": {
      "image/png": "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",
      "text/plain": [
       "<Figure size 640x480 with 1 Axes>"
      ]
     },
     "metadata": {},
     "output_type": "display_data"
    }
   ],
   "source": [
    "# Write the code for your histogram\n",
    "\n",
    "np.random.seed(10393)\n",
    "randomvar_x = np.random.normal(loc=0, scale=1, size=100000)\n",
    "\n",
    "plt.hist(x = randomvar_x)\n",
    "plt.xlabel(\"Variable a\")\n",
    "plt.ylabel(\"Frequency\")"
   ]
  },
  {
   "attachments": {},
   "cell_type": "markdown",
   "metadata": {},
   "source": [
    "# <span style=\"color:darkblue\"> Additional Resources </span>\n",
    "\n",
    "<font size=\"5\"> \n",
    "\n",
    "Check out additional examples at:\n",
    "\n",
    "- https://allendowney.github.io/ElementsOfDataScience/03_arrays.html\n",
    "\n",
    "\n"
   ]
  },
  {
   "attachments": {},
   "cell_type": "markdown",
   "metadata": {},
   "source": [
    "# <span style=\"color:darkblue\"> (Optional) Matrix Operations </span>\n",
    "\n",
    "<font size=\"5\"> \n"
   ]
  },
  {
   "attachments": {},
   "cell_type": "markdown",
   "metadata": {},
   "source": [
    "<font size = \"5\">\n",
    "Creating a matrix by stacking different rows\n",
    "\n",
    "$ \\text{ }$\n",
    "\n",
    "$ X = \\begin{pmatrix} 1 & 2 & 3 \\\\ \n",
    "                       0 & 4 & 5 \\\\\n",
    "                       0 & 0 & 6\n",
    "                       \\end{pmatrix} $"
   ]
  },
  {
   "cell_type": "code",
   "execution_count": 81,
   "metadata": {},
   "outputs": [
    {
     "name": "stdout",
     "output_type": "stream",
     "text": [
      "[[1 2 3]\n",
      " [0 4 5]\n",
      " [0 0 6]]\n"
     ]
    }
   ],
   "source": [
    "# Matrices are usually denoted by capital letters\n",
    "# The object [[1,2,3],[4,5,6],[7,8,9]] is a list of lists\n",
    "# It's useful to maintain this notation in the code as well\n",
    "\n",
    "X = np.array([[1,2,3],[0,4,5],[0,0,6]])\n",
    "print(X)"
   ]
  },
  {
   "attachments": {},
   "cell_type": "markdown",
   "metadata": {},
   "source": [
    "<font size = \"5\">\n",
    "Creating a matrix by stacking different columns\n",
    "\n",
    "$ \\text{ } $\n",
    "\n",
    "$ Y = \\begin{pmatrix} 1 & 2 \\\\ 0 & 1 \\\\ 1 & 0 \\end{pmatrix}$"
   ]
  },
  {
   "cell_type": "code",
   "execution_count": 14,
   "metadata": {},
   "outputs": [
    {
     "name": "stdout",
     "output_type": "stream",
     "text": [
      "[[1 2]\n",
      " [0 1]\n",
      " [1 0]]\n"
     ]
    }
   ],
   "source": [
    "# You can also stack columns\n",
    "Y =  np.column_stack([[1,0,1],[2,1,0]])\n",
    "print(Y)"
   ]
  },
  {
   "attachments": {},
   "cell_type": "markdown",
   "metadata": {},
   "source": [
    "<font size = \"5\">\n",
    "Transpose\n",
    "\n",
    "$ \\text{ }$\n",
    "\n",
    "$ Y' = \\begin{pmatrix}  1 & 0 & 1 \\\\ 2 & 1 & 0  \\end{pmatrix} $"
   ]
  },
  {
   "cell_type": "code",
   "execution_count": 15,
   "metadata": {},
   "outputs": [
    {
     "data": {
      "text/plain": [
       "array([[1, 0, 1],\n",
       "       [2, 1, 0]])"
      ]
     },
     "execution_count": 15,
     "metadata": {},
     "output_type": "execute_result"
    }
   ],
   "source": [
    "# Matrix Transpose\n",
    "np.matrix.transpose(Y)"
   ]
  },
  {
   "attachments": {},
   "cell_type": "markdown",
   "metadata": {},
   "source": [
    "<font size = \"5\">\n",
    "\n",
    "Matrix multiplication\n",
    "\n",
    "$ XY = \\begin{pmatrix} 1 & 2 & 3 \\\\ \n",
    "                       0 & 4 & 5 \\\\\n",
    "                       0 & 0 & 6\n",
    "                       \\end{pmatrix}\n",
    "                       \\begin{pmatrix} 1 & 2 \\\\ 0 & 1 \\\\ 1 & 0 \\end{pmatrix} = \n",
    "        \\begin{pmatrix} 4 & 4 \\\\ 5 & 4 \\\\ 6 & 0 \\end{pmatrix} $"
   ]
  },
  {
   "cell_type": "code",
   "execution_count": 34,
   "metadata": {},
   "outputs": [
    {
     "data": {
      "text/plain": [
       "array([[4, 4],\n",
       "       [5, 4],\n",
       "       [6, 0]])"
      ]
     },
     "execution_count": 34,
     "metadata": {},
     "output_type": "execute_result"
    }
   ],
   "source": [
    "# Matrix Multiplication\n",
    "\n",
    "np.dot(X,Y)\n",
    "\n",
    "np.matmul(X,Y)"
   ]
  },
  {
   "attachments": {},
   "cell_type": "markdown",
   "metadata": {},
   "source": [
    "<font size = \"5\">\n",
    "\n",
    "Matrix inverse\n",
    "\n",
    "$ X^{-1} = \\begin{pmatrix} 1 & 2 & 3 \\\\ \n",
    "                       0 & 4 & 5 \\\\\n",
    "                       0 & 0 & 6\n",
    "                       \\end{pmatrix}^{-1} $"
   ]
  },
  {
   "cell_type": "code",
   "execution_count": 31,
   "metadata": {},
   "outputs": [
    {
     "name": "stdout",
     "output_type": "stream",
     "text": [
      "23.999999999999993\n",
      "[[ 1.         -0.5        -0.08333333]\n",
      " [ 0.          0.25       -0.20833333]\n",
      " [ 0.          0.          0.16666667]]\n",
      "[[ 1.00000000e+00  0.00000000e+00 -2.22044605e-16]\n",
      " [ 0.00000000e+00  1.00000000e+00  0.00000000e+00]\n",
      " [ 0.00000000e+00  0.00000000e+00  1.00000000e+00]]\n"
     ]
    }
   ],
   "source": [
    "# Check the determinant of a matrix (a matrix is invertible if the determinant is not zero)\n",
    "print(np.linalg.det(X))\n",
    "\n",
    "# Matrix inverse\n",
    "# The following command stands for linear algebrar inverse.\n",
    "X_inv = np.linalg.inv(X)\n",
    "\n",
    "# Output the result\n",
    "print(X_inv)\n"
   ]
  },
  {
   "attachments": {},
   "cell_type": "markdown",
   "metadata": {},
   "source": [
    "<font size = \"5\">\n",
    "\n",
    "Try it yourself! Check that this is indeed an inverse:\n",
    "\n",
    "$X X_{inv} = \\begin{pmatrix} 1 & 0 & 0 \\\\ 0 & 1 & 0 \\\\ 0 & 0 & 1 \\end{pmatrix}$"
   ]
  },
  {
   "cell_type": "code",
   "execution_count": 32,
   "metadata": {},
   "outputs": [
    {
     "name": "stdout",
     "output_type": "stream",
     "text": [
      "[[ 1.00000000e+00  0.00000000e+00 -2.22044605e-16]\n",
      " [ 0.00000000e+00  1.00000000e+00  0.00000000e+00]\n",
      " [ 0.00000000e+00  0.00000000e+00  1.00000000e+00]]\n"
     ]
    }
   ],
   "source": [
    "# Multiply \"X\" times \"X_inv\" using the command shown above\n",
    "# Note: Sometimes the result is shown in scientific notation.\n",
    "\n",
    "\n",
    "\n"
   ]
  }
 ],
 "metadata": {
  "kernelspec": {
   "display_name": "base",
   "language": "python",
   "name": "python3"
  },
  "language_info": {
   "codemirror_mode": {
    "name": "ipython",
    "version": 3
   },
   "file_extension": ".py",
   "mimetype": "text/x-python",
   "name": "python",
   "nbconvert_exporter": "python",
   "pygments_lexer": "ipython3",
   "version": "3.11.4"
  },
  "orig_nbformat": 4,
  "vscode": {
   "interpreter": {
    "hash": "45fc1f684f6f416f40889115beff3ddf69879b64cf4bfee48cb72a61e9d15d1a"
   }
  }
 },
 "nbformat": 4,
 "nbformat_minor": 2
}
